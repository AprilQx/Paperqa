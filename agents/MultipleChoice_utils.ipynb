{
 "cells": [
  {
   "cell_type": "code",
   "execution_count": null,
   "metadata": {},
   "outputs": [],
   "source": [
    "from datasets import load_dataset\n",
    "import random\n",
    "import string\n",
    "from dataclasses import dataclass, asdict\n",
    "from typing import List\n",
    "import json\n",
    "from pathlib import Path\n",
    "import csv"
   ]
  },
  {
   "cell_type": "code",
   "execution_count": 60,
   "metadata": {},
   "outputs": [],
   "source": [
    "REFUSE_CHOICE = \"Insufficient information to answer the question\"\n",
    "ALPHABET = string.ascii_uppercase"
   ]
  },
  {
   "cell_type": "code",
   "execution_count": 61,
   "metadata": {},
   "outputs": [],
   "source": [
    "@dataclass\n",
    "class MultipleChoiceQuestion:\n",
    "    question: str\n",
    "    choices: List[str]\n",
    "    correct_answer: str\n",
    "    unsure_option: str\n",
    "    sources: List[str]\n",
    "    ideal: str\n",
    "    distractors: List[str]\n"
   ]
  },
  {
   "cell_type": "code",
   "execution_count": 62,
   "metadata": {},
   "outputs": [],
   "source": [
    "def randomize_choices(ideal: str, distractors: list[str]) -> tuple[list[str], str, str]:\n",
    "    # Combines correct answer, \"Insufficient information\" option, and distractors\n",
    "    choices = [ideal, REFUSE_CHOICE, *distractors]\n",
    "    \n",
    "    # Creates letter choices (A, B, C, etc)\n",
    "    n_choices = len(choices)\n",
    "    if n_choices > len(ALPHABET):\n",
    "        raise ValueError(\"Too many choices\")\n",
    "\n",
    "    # Randomizes the order\n",
    "    perm = list(range(n_choices))\n",
    "    random.shuffle(perm)\n",
    "    shuffled_choices = [\n",
    "        f\"({letter}) {choices[sigma_i]}\"\n",
    "        for letter, sigma_i in zip(ALPHABET, perm, strict=False)\n",
    "    ]\n",
    "\n",
    "    # Returns the correct answer letter and \"unsure\" option letter\n",
    "    answer = ALPHABET[perm.index(0)]\n",
    "    unsure = ALPHABET[perm.index(1)]\n",
    "\n",
    "    return shuffled_choices, answer, unsure"
   ]
  },
  {
   "cell_type": "code",
   "execution_count": null,
   "metadata": {},
   "outputs": [],
   "source": []
  },
  {
   "cell_type": "code",
   "execution_count": 63,
   "metadata": {},
   "outputs": [],
   "source": [
    "def save_questions(questions: List[MultipleChoiceQuestion], output_dir: Path):\n",
    "    \"\"\"Save questions in multiple formats.\"\"\"\n",
    "    output_dir.mkdir(exist_ok=True)\n",
    "    \n",
    "    # Save as JSON\n",
    "    with open(output_dir / \"questions.json\", 'w') as f:\n",
    "        json.dump([asdict(q) for q in questions], f, indent=2)\n",
    "    \n",
    "    # Save as JSONL (one question per line)\n",
    "    with open(output_dir / \"questions.jsonl\", 'w') as f:\n",
    "        for q in questions:\n",
    "            f.write(json.dumps(asdict(q)) + '\\n')\n",
    "    \n",
    "    # Save as CSV\n",
    "    with open(output_dir / \"questions.csv\", 'w', newline='') as f:\n",
    "        writer = csv.writer(f)\n",
    "        # Write header\n",
    "        headers = [\"question\", \"choices\", \"correct_answer\", \"unsure_option\", \"sources\", \"ideal\", \"distractors\"]\n",
    "        writer.writerow(headers)\n",
    "        # Write data\n",
    "        for q in questions:\n",
    "            writer.writerow([\n",
    "                q.question,\n",
    "                \"|\".join(q.choices),  # Join choices with pipe separator\n",
    "                q.correct_answer,\n",
    "                q.unsure_option,\n",
    "                \"|\".join(q.sources),\n",
    "                q.ideal,\n",
    "                \"|\".join(q.distractors)\n",
    "            ])"
   ]
  },
  {
   "cell_type": "code",
   "execution_count": 64,
   "metadata": {},
   "outputs": [],
   "source": [
    "def format_training_questions(save_dir: Path | str = \"formatted_questions\"):\n",
    "    # Load training dataset\n",
    "    print(\"Loading training dataset...\")\n",
    "    train_data = load_dataset(\"futurehouse/lab-bench\", \"LitQA2\")[\"train\"]\n",
    "    \n",
    "    # Format all questions\n",
    "    formatted_questions = []\n",
    "    for q in train_data:\n",
    "        choices, answer, unsure = randomize_choices(\n",
    "            ideal=q['ideal'],\n",
    "            distractors=q['distractors']\n",
    "        )\n",
    "        \n",
    "        formatted_questions.append(MultipleChoiceQuestion(\n",
    "            question=q['question'],\n",
    "            choices=choices,\n",
    "            correct_answer=answer,\n",
    "            unsure_option=unsure,\n",
    "            sources=q['sources'],\n",
    "            ideal=q['ideal'],\n",
    "            distractors=q['distractors']\n",
    "        ))\n",
    "    \n",
    "    print(f\"\\nFormatted {len(formatted_questions)} questions\")\n",
    "    \n",
    "    # Save questions\n",
    "    output_dir = Path(save_dir)\n",
    "    save_questions(formatted_questions, output_dir)\n",
    "    print(f\"\\nSaved questions to {output_dir}\")\n",
    "\n",
    "    # Print example\n",
    "    print(\"\\nExample formatted question:\")\n",
    "    example = formatted_questions[0]\n",
    "    print(f\"Question: {example.question}\")\n",
    "    print(\"\\nChoices:\")\n",
    "    for choice in example.choices:\n",
    "        print(choice)\n",
    "    print(f\"\\nCorrect Answer: {example.correct_answer}\")\n",
    "    print(f\"'Unsure' Option: {example.unsure_option}\")\n",
    "    print(f\"Sources: {example.sources}\")\n",
    "    \n",
    "    return formatted_questions"
   ]
  },
  {
   "cell_type": "code",
   "execution_count": 65,
   "metadata": {},
   "outputs": [
    {
     "name": "stdout",
     "output_type": "stream",
     "text": [
      "Loading training dataset...\n",
      "\n",
      "Formatted 199 questions\n"
     ]
    },
    {
     "ename": "NameError",
     "evalue": "name 'asdict' is not defined",
     "output_type": "error",
     "traceback": [
      "\u001b[0;31m---------------------------------------------------------------------------\u001b[0m",
      "\u001b[0;31mNameError\u001b[0m                                 Traceback (most recent call last)",
      "Cell \u001b[0;32mIn[65], line 1\u001b[0m\n\u001b[0;32m----> 1\u001b[0m questions \u001b[38;5;241m=\u001b[39m \u001b[43mformat_training_questions\u001b[49m\u001b[43m(\u001b[49m\u001b[43m)\u001b[49m\n",
      "Cell \u001b[0;32mIn[64], line 28\u001b[0m, in \u001b[0;36mformat_training_questions\u001b[0;34m(save_dir)\u001b[0m\n\u001b[1;32m     26\u001b[0m \u001b[38;5;66;03m# Save questions\u001b[39;00m\n\u001b[1;32m     27\u001b[0m output_dir \u001b[38;5;241m=\u001b[39m Path(save_dir)\n\u001b[0;32m---> 28\u001b[0m \u001b[43msave_questions\u001b[49m\u001b[43m(\u001b[49m\u001b[43mformatted_questions\u001b[49m\u001b[43m,\u001b[49m\u001b[43m \u001b[49m\u001b[43moutput_dir\u001b[49m\u001b[43m)\u001b[49m\n\u001b[1;32m     29\u001b[0m \u001b[38;5;28mprint\u001b[39m(\u001b[38;5;124mf\u001b[39m\u001b[38;5;124m\"\u001b[39m\u001b[38;5;130;01m\\n\u001b[39;00m\u001b[38;5;124mSaved questions to \u001b[39m\u001b[38;5;132;01m{\u001b[39;00moutput_dir\u001b[38;5;132;01m}\u001b[39;00m\u001b[38;5;124m\"\u001b[39m)\n\u001b[1;32m     31\u001b[0m \u001b[38;5;66;03m# Print example\u001b[39;00m\n",
      "Cell \u001b[0;32mIn[63], line 7\u001b[0m, in \u001b[0;36msave_questions\u001b[0;34m(questions, output_dir)\u001b[0m\n\u001b[1;32m      5\u001b[0m \u001b[38;5;66;03m# Save as JSON\u001b[39;00m\n\u001b[1;32m      6\u001b[0m \u001b[38;5;28;01mwith\u001b[39;00m \u001b[38;5;28mopen\u001b[39m(output_dir \u001b[38;5;241m/\u001b[39m \u001b[38;5;124m\"\u001b[39m\u001b[38;5;124mquestions.json\u001b[39m\u001b[38;5;124m\"\u001b[39m, \u001b[38;5;124m'\u001b[39m\u001b[38;5;124mw\u001b[39m\u001b[38;5;124m'\u001b[39m) \u001b[38;5;28;01mas\u001b[39;00m f:\n\u001b[0;32m----> 7\u001b[0m     json\u001b[38;5;241m.\u001b[39mdump(\u001b[43m[\u001b[49m\u001b[43masdict\u001b[49m\u001b[43m(\u001b[49m\u001b[43mq\u001b[49m\u001b[43m)\u001b[49m\u001b[43m \u001b[49m\u001b[38;5;28;43;01mfor\u001b[39;49;00m\u001b[43m \u001b[49m\u001b[43mq\u001b[49m\u001b[43m \u001b[49m\u001b[38;5;129;43;01min\u001b[39;49;00m\u001b[43m \u001b[49m\u001b[43mquestions\u001b[49m\u001b[43m]\u001b[49m, f, indent\u001b[38;5;241m=\u001b[39m\u001b[38;5;241m2\u001b[39m)\n\u001b[1;32m      9\u001b[0m \u001b[38;5;66;03m# Save as JSONL (one question per line)\u001b[39;00m\n\u001b[1;32m     10\u001b[0m \u001b[38;5;28;01mwith\u001b[39;00m \u001b[38;5;28mopen\u001b[39m(output_dir \u001b[38;5;241m/\u001b[39m \u001b[38;5;124m\"\u001b[39m\u001b[38;5;124mquestions.jsonl\u001b[39m\u001b[38;5;124m\"\u001b[39m, \u001b[38;5;124m'\u001b[39m\u001b[38;5;124mw\u001b[39m\u001b[38;5;124m'\u001b[39m) \u001b[38;5;28;01mas\u001b[39;00m f:\n",
      "Cell \u001b[0;32mIn[63], line 7\u001b[0m, in \u001b[0;36m<listcomp>\u001b[0;34m(.0)\u001b[0m\n\u001b[1;32m      5\u001b[0m \u001b[38;5;66;03m# Save as JSON\u001b[39;00m\n\u001b[1;32m      6\u001b[0m \u001b[38;5;28;01mwith\u001b[39;00m \u001b[38;5;28mopen\u001b[39m(output_dir \u001b[38;5;241m/\u001b[39m \u001b[38;5;124m\"\u001b[39m\u001b[38;5;124mquestions.json\u001b[39m\u001b[38;5;124m\"\u001b[39m, \u001b[38;5;124m'\u001b[39m\u001b[38;5;124mw\u001b[39m\u001b[38;5;124m'\u001b[39m) \u001b[38;5;28;01mas\u001b[39;00m f:\n\u001b[0;32m----> 7\u001b[0m     json\u001b[38;5;241m.\u001b[39mdump([\u001b[43masdict\u001b[49m(q) \u001b[38;5;28;01mfor\u001b[39;00m q \u001b[38;5;129;01min\u001b[39;00m questions], f, indent\u001b[38;5;241m=\u001b[39m\u001b[38;5;241m2\u001b[39m)\n\u001b[1;32m      9\u001b[0m \u001b[38;5;66;03m# Save as JSONL (one question per line)\u001b[39;00m\n\u001b[1;32m     10\u001b[0m \u001b[38;5;28;01mwith\u001b[39;00m \u001b[38;5;28mopen\u001b[39m(output_dir \u001b[38;5;241m/\u001b[39m \u001b[38;5;124m\"\u001b[39m\u001b[38;5;124mquestions.jsonl\u001b[39m\u001b[38;5;124m\"\u001b[39m, \u001b[38;5;124m'\u001b[39m\u001b[38;5;124mw\u001b[39m\u001b[38;5;124m'\u001b[39m) \u001b[38;5;28;01mas\u001b[39;00m f:\n",
      "\u001b[0;31mNameError\u001b[0m: name 'asdict' is not defined"
     ]
    }
   ],
   "source": [
    "questions = format_training_questions()"
   ]
  },
  {
   "cell_type": "code",
   "execution_count": null,
   "metadata": {},
   "outputs": [
    {
     "data": {
      "text/plain": [
       "MultipleChoiceQuestion(question='Among Cas9-disrupted loci in human neural stem cells, what fraction of disruption phenotypes were apparent after 4 cell divisions?', choices=['(A) 61% conserved region loci', '(B) 31% conserved region loci', '(C) 31% of gene loci', '(D) 61% of enhancer loci', '(E) Insufficient information to answer the question', '(F) 61% of gene loci', '(G) 31% of enhancer loci'], correct_answer='F', unsure_option='E', sources=['https://doi.org/10.1016/j.celrep.2024.113693'], ideal='61% of gene loci', distractors=['61% of enhancer loci', '31% of gene loci', '31% of enhancer loci', '61% conserved region loci', '31% conserved region loci'])"
      ]
     },
     "execution_count": 31,
     "metadata": {},
     "output_type": "execute_result"
    }
   ],
   "source": [
    "questions[2]\n"
   ]
  }
 ],
 "metadata": {
  "kernelspec": {
   "display_name": "paperqa_env",
   "language": "python",
   "name": "python3"
  },
  "language_info": {
   "codemirror_mode": {
    "name": "ipython",
    "version": 3
   },
   "file_extension": ".py",
   "mimetype": "text/x-python",
   "name": "python",
   "nbconvert_exporter": "python",
   "pygments_lexer": "ipython3",
   "version": "3.11.11"
  }
 },
 "nbformat": 4,
 "nbformat_minor": 2
}

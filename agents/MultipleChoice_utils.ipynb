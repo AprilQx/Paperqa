{
 "cells": [
  {
   "cell_type": "code",
   "execution_count": 1,
   "metadata": {},
   "outputs": [
    {
     "name": "stderr",
     "output_type": "stream",
     "text": [
      "/Users/apple/opt/anaconda3/envs/paperqa_env/lib/python3.11/site-packages/tqdm/auto.py:21: TqdmWarning: IProgress not found. Please update jupyter and ipywidgets. See https://ipywidgets.readthedocs.io/en/stable/user_install.html\n",
      "  from .autonotebook import tqdm as notebook_tqdm\n"
     ]
    }
   ],
   "source": [
    "from datasets import load_dataset\n",
    "import random\n",
    "import string"
   ]
  },
  {
   "cell_type": "code",
   "execution_count": 3,
   "metadata": {},
   "outputs": [],
   "source": [
    "REFUSE_CHOICE = \"Insufficient information to answer the question\"\n",
    "ALPHABET = string.ascii_uppercase"
   ]
  },
  {
   "cell_type": "code",
   "execution_count": 2,
   "metadata": {},
   "outputs": [],
   "source": [
    "def randomize_choices(ideal: str, distractors: list[str]) -> tuple[list[str], str, str]:\n",
    "    # Combines correct answer, \"Insufficient information\" option, and distractors\n",
    "    choices = [ideal, REFUSE_CHOICE, *distractors]\n",
    "    \n",
    "    # Creates letter choices (A, B, C, etc)\n",
    "    n_choices = len(choices)\n",
    "    if n_choices > len(ALPHABET):\n",
    "        raise ValueError(\"Too many choices\")\n",
    "\n",
    "    # Randomizes the order\n",
    "    perm = list(range(n_choices))\n",
    "    random.shuffle(perm)\n",
    "    shuffled_choices = [\n",
    "        f\"({letter}) {choices[sigma_i]}\"\n",
    "        for letter, sigma_i in zip(ALPHABET, perm, strict=False)\n",
    "    ]\n",
    "\n",
    "    # Returns the correct answer letter and \"unsure\" option letter\n",
    "    answer = ALPHABET[perm.index(0)]\n",
    "    unsure = ALPHABET[perm.index(1)]\n",
    "\n",
    "    return shuffled_choices, answer, unsure"
   ]
  },
  {
   "cell_type": "code",
   "execution_count": 4,
   "metadata": {},
   "outputs": [],
   "source": [
    "def format_as_multiple_choice(question_data):\n",
    "    \"\"\"Convert a dataset entry to multiple choice format.\"\"\"\n",
    "    choices, answer, unsure = randomize_choices(\n",
    "        ideal=question_data['ideal'],\n",
    "        distractors=question_data['distractors']\n",
    "    )\n",
    "    \n",
    "    return {\n",
    "        'question': question_data['question'],\n",
    "        'choices': choices,\n",
    "        'correct_answer': answer,\n",
    "        'unsure_option': unsure,\n",
    "        'sources': question_data['sources']\n",
    "    }\n"
   ]
  },
  {
   "cell_type": "code",
   "execution_count": 5,
   "metadata": {},
   "outputs": [],
   "source": [
    "train_eval = load_dataset(\"futurehouse/lab-bench\", \"LitQA2\")[\"train\"]"
   ]
  },
  {
   "cell_type": "code",
   "execution_count": 6,
   "metadata": {},
   "outputs": [
    {
     "name": "stdout",
     "output_type": "stream",
     "text": [
      "Sample Multiple Choice Question:\n",
      "Question: Acinetobacter lwoffii has been evolved in the lab to be resistant to which of these antibiotics?\n",
      "\n",
      "Choices:\n",
      "(A) ciproflaxin\n",
      "(B) ampicillin\n",
      "(C) gentamicin\n",
      "(D) meropenem\n",
      "(E) Insufficient information to answer the question\n",
      "\n",
      "Correct Answer: A\n",
      "'Unsure' Option: E\n",
      "Sources: ['https://doi.org/10.1128/msphere.00109-24']\n"
     ]
    }
   ],
   "source": [
    "example = format_as_multiple_choice(train_eval[0])\n",
    "print(\"Sample Multiple Choice Question:\")\n",
    "print(f\"Question: {example['question']}\\n\")\n",
    "print(\"Choices:\")\n",
    "for choice in example['choices']:\n",
    "    print(choice)\n",
    "print(f\"\\nCorrect Answer: {example['correct_answer']}\")\n",
    "print(f\"'Unsure' Option: {example['unsure_option']}\")\n",
    "print(f\"Sources: {example['sources']}\")"
   ]
  }
 ],
 "metadata": {
  "kernelspec": {
   "display_name": "paperqa_env",
   "language": "python",
   "name": "python3"
  },
  "language_info": {
   "codemirror_mode": {
    "name": "ipython",
    "version": 3
   },
   "file_extension": ".py",
   "mimetype": "text/x-python",
   "name": "python",
   "nbconvert_exporter": "python",
   "pygments_lexer": "ipython3",
   "version": "3.11.11"
  }
 },
 "nbformat": 4,
 "nbformat_minor": 2
}

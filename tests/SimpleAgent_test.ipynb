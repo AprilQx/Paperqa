{
 "cells": [
  {
   "cell_type": "code",
   "execution_count": 15,
   "metadata": {},
   "outputs": [],
   "source": [
    "import asyncio\n",
    "from ldp.agent import SimpleAgent\n",
    "import nest_asyncio\n",
    "from aviary.core import Message, Tool,FunctionInfo\n",
    "\n",
    "from pydantic import BaseModel, Field"
   ]
  },
  {
   "cell_type": "code",
   "execution_count": 16,
   "metadata": {},
   "outputs": [],
   "source": [
    "nest_asyncio.apply()"
   ]
  },
  {
   "cell_type": "code",
   "execution_count": null,
   "metadata": {},
   "outputs": [],
   "source": [
    "# Define input/output types for the calculator\n",
    "class CalculatorInput(BaseModel):\n",
    "    x: float = Field(description=\"First number\")\n",
    "    y: float = Field(description=\"Second number\")\n",
    "\n",
    "class CalculatorOutput(BaseModel):\n",
    "    result: float = Field(description=\"The sum of x and y\")\n"
   ]
  },
  {
   "cell_type": "code",
   "execution_count": 22,
   "metadata": {},
   "outputs": [],
   "source": [
    "async def test_simple_agent():\n",
    "    # Define the calculator function\n",
    "    async def calculator(input_data: CalculatorInput) -> CalculatorOutput:\n",
    "        return CalculatorOutput(result=input_data.x + input_data.y)\n",
    "\n",
    "    # Create the tool properly structured\n",
    "    function_info = FunctionInfo(\n",
    "        name=\"add\",\n",
    "        description=\"Add two numbers together\",\n",
    "        parameters=CalculatorInput.model_json_schema(),\n",
    "        function=calculator,\n",
    "        input_type=CalculatorInput,\n",
    "        output_type=CalculatorOutput\n",
    "    )\n",
    "\n",
    "    calculator_tool = Tool(\n",
    "        name=\"calculator\",\n",
    "        description=\"A simple calculator that can add two numbers\",\n",
    "        function=function_info\n",
    "    )\n",
    "\n",
    "    # Initialize the agent with the tool\n",
    "    agent = SimpleAgent(\n",
    "        llm_model={\n",
    "            \"model\": \"gpt-3.5-turbo\",\n",
    "            \"temperature\": 0.1\n",
    "        },\n",
    "        sys_prompt=\"You are a helpful assistant that can perform calculations.\"\n",
    "    )\n",
    "\n",
    "    # Initialize agent state with tools\n",
    "    state = await agent.init_state(tools=[calculator_tool])\n",
    "\n",
    "    # Create a test message\n",
    "    test_message = Message(\n",
    "        role=\"user\",\n",
    "        content=\"Can you help me add 5 and 3?\"\n",
    "    )\n",
    "\n",
    "    # Get agent's action and new state\n",
    "    action, new_state, cost = await agent.get_asv(state, [test_message])\n",
    "    \n",
    "    # Print results\n",
    "    print(\"Action:\", action.value.content)\n",
    "    print(\"Cost:\", cost)\n",
    "    print(\"Total tokens used:\", new_state.total_tokens)\n",
    "    print(\"Total cost so far:\", new_state.total_cost)\n",
    "\n",
    "    return action, new_state, cost\n"
   ]
  },
  {
   "cell_type": "code",
   "execution_count": 23,
   "metadata": {},
   "outputs": [
    {
     "name": "stdout",
     "output_type": "stream",
     "text": [
      "Action: None\n",
      "Cost: 1.8e-05\n",
      "Total tokens used: {'input': 27, 'output': 3}\n",
      "Total cost so far: 1.8e-05\n"
     ]
    },
    {
     "data": {
      "text/plain": [
       "(OpResult(op=ldp.graph.common_ops.LLMCallOp:_llm_call_op, call_id=run_id=UUID('63653cbd-88b6-41b3-8138-905e6db9de4f') fwd_id=UUID('9e877042-073d-4f0e-8fd0-6dac5f62a2ab'), value=ToolRequestMessage(role='assistant', content=None, function_call=None, tool_calls=[ToolCall(id='call_wZSbP1xZG8Z1x8XfnoSbdu5l', type='function', function=ToolCallFunction(arguments={'x': 5, 'y': 3}, name='add'))])),\n",
       " SimpleAgentState(tools=[Tool(type='function', info=FunctionInfo(name='add', description='Add two numbers together', parameters=Parameters(type='object', properties={'x': {'description': 'First number', 'title': 'X', 'type': 'number'}, 'y': {'description': 'Second number', 'title': 'Y', 'type': 'number'}}, required=['x', 'y'], title='CalculatorInput')))], messages=[Message(role='user', content='Can you help me add 5 and 3?'), ToolRequestMessage(role='assistant', content=None, function_call=None, tool_calls=[ToolCall(id='call_wZSbP1xZG8Z1x8XfnoSbdu5l', type='function', function=ToolCallFunction(arguments={'x': 5, 'y': 3}, name='add'))])], hide_old_env_states=False, hide_old_action_content=False, total_cost=1.8e-05, total_tokens={'input': 27, 'output': 3}),\n",
       " 1.8e-05)"
      ]
     },
     "execution_count": 23,
     "metadata": {},
     "output_type": "execute_result"
    }
   ],
   "source": [
    "# For Jupyter environment:\n",
    "await test_simple_agent()"
   ]
  }
 ],
 "metadata": {
  "kernelspec": {
   "display_name": "paperqa_env",
   "language": "python",
   "name": "python3"
  },
  "language_info": {
   "codemirror_mode": {
    "name": "ipython",
    "version": 3
   },
   "file_extension": ".py",
   "mimetype": "text/x-python",
   "name": "python",
   "nbconvert_exporter": "python",
   "pygments_lexer": "ipython3",
   "version": "3.11.11"
  }
 },
 "nbformat": 4,
 "nbformat_minor": 2
}

{
 "cells": [
  {
   "cell_type": "code",
   "execution_count": 82,
   "metadata": {},
   "outputs": [],
   "source": [
    "import json\n",
    "from paperqa import Settings, ask\n",
    "import os\n",
    "from paperqa import Settings, Docs\n",
    "from paperqa.agents.main import agent_query\n",
    "from paperqa.agents.search import get_directory_index\n",
    "\n",
    "from aviary.env import TaskDataset\n",
    "from ldp.agent import SimpleAgent\n",
    "from ldp.alg.callbacks import MeanMetricsCallback\n",
    "from ldp.alg.runners import Evaluator, EvaluatorConfig\n"
   ]
  },
  {
   "cell_type": "code",
   "execution_count": 83,
   "metadata": {},
   "outputs": [
    {
     "name": "stdout",
     "output_type": "stream",
     "text": [
      "Found the question!\n"
     ]
    }
   ],
   "source": [
    "# Load the questions\n",
    "with open(\"/Users/apple/Documents/GitLab_Projects/master_project/xx823/Reproduction/formatted_questions/questions.json\", \"r\") as f:\n",
    "    questions = json.load(f)\n",
    "\n",
    "# Search for this specific question\n",
    "target_question = \"What effect does bone marrow stromal cell-conditioned media have on the expression of the CD8a receptor in cultured OT-1 T cells?\"\n",
    "matching_questions = [q for q in questions if q[\"question\"] == target_question]\n",
    "\n",
    "if matching_questions:\n",
    "    print(\"Found the question!\")\n",
    "    question_data = matching_questions[0]\n",
    "else:\n",
    "    print(\"Question not found in dataset\")"
   ]
  },
  {
   "cell_type": "code",
   "execution_count": 84,
   "metadata": {},
   "outputs": [
    {
     "data": {
      "text/plain": [
       "{'question': 'What effect does bone marrow stromal cell-conditioned media have on the expression of the CD8a receptor in cultured OT-1 T cells?',\n",
       " 'choices': ['(A) No effect',\n",
       "  '(B) Insufficient information to answer the question',\n",
       "  '(C) Decrease',\n",
       "  '(D) Increase'],\n",
       " 'correct_answer': 'A',\n",
       " 'unsure_option': 'B',\n",
       " 'sources': ['https://doi.org/10.1101/2024.01.31.578101'],\n",
       " 'ideal': 'No effect',\n",
       " 'distractors': ['Increase', 'Decrease']}"
      ]
     },
     "execution_count": 84,
     "metadata": {},
     "output_type": "execute_result"
    }
   ],
   "source": [
    "question_data"
   ]
  },
  {
   "cell_type": "code",
   "execution_count": 85,
   "metadata": {},
   "outputs": [],
   "source": [
    "def format_multiple_choice_question(question, choices):\n",
    "    formatted = f\"Question:Q: {question}; Options: \"\n",
    "    formatted += \" \".join(choices)\n",
    "    return formatted\n"
   ]
  },
  {
   "cell_type": "code",
   "execution_count": 86,
   "metadata": {},
   "outputs": [],
   "source": [
    "# Set up PaperQA2 with the paper directory\n",
    "settings = Settings(\n",
    "    temperature=0.0,  # Keep deterministic\n",
    "    paper_directory=\"/Users/apple/Documents/GitLab_Projects/master_project/xx823/paper-2a\"  # Directory containing the paper with DOI: 10.1101/2024.01.31.578101\n",
    ")\n"
   ]
  },
  {
   "cell_type": "code",
   "execution_count": 87,
   "metadata": {},
   "outputs": [
    {
     "data": {
      "text/plain": [
       "'Question:Q: What effect does bone marrow stromal cell-conditioned media have on the expression of the CD8a receptor in cultured OT-1 T cells?; Options: (A) No effect (B) Insufficient information to answer the question (C) Decrease (D) Increase'"
      ]
     },
     "execution_count": 87,
     "metadata": {},
     "output_type": "execute_result"
    }
   ],
   "source": [
    "formatted_q = format_multiple_choice_question(question_data['question'], question_data['choices'])\n",
    "formatted_q"
   ]
  },
  {
   "cell_type": "code",
   "execution_count": 88,
   "metadata": {},
   "outputs": [],
   "source": [
    "import nest_asyncio\n",
    "nest_asyncio.apply()"
   ]
  },
  {
   "cell_type": "code",
   "execution_count": 89,
   "metadata": {},
   "outputs": [],
   "source": [
    "# Create settings with explicit configuration\n",
    "settings = Settings(\n",
    "    paper_directory='/Users/apple/Documents/GitLab_Projects/master_project/xx823/paper-2a',\n",
    "    agent={\"index\": {\n",
    "        \"sync_with_paper_directory\": True,\n",
    "        \"recurse_subdirectories\": True\n",
    "    }}\n",
    ")\n",
    "\n"
   ]
  },
  {
   "cell_type": "code",
   "execution_count": 90,
   "metadata": {},
   "outputs": [
    {
     "name": "stdout",
     "output_type": "stream",
     "text": [
      "Directory /Users/apple/Documents/GitLab_Projects/master_project/xx823/paper-2a exists, checking contents:\n",
      "Found 2 files: ['darby-et-al-2024-differential-development-of-antibiotic-resistance-and-virulence-between-acinetobacter-species.pdf', 'The T-cell niche tunes immune function through modulation of the cytoskeleton and TCRantigen forces.pdf']\n"
     ]
    }
   ],
   "source": [
    "paper_dir = \"/Users/apple/Documents/GitLab_Projects/master_project/xx823/paper-2a\"\n",
    "if not os.path.exists(paper_dir):\n",
    "    print(f\"Directory {paper_dir} does not exist!\")\n",
    "    # Create it\n",
    "    os.makedirs(paper_dir, exist_ok=True)\n",
    "else:\n",
    "    print(f\"Directory {paper_dir} exists, checking contents:\")\n",
    "    files = os.listdir(paper_dir)\n",
    "    print(f\"Found {len(files)} files: {files}\")"
   ]
  },
  {
   "cell_type": "code",
   "execution_count": 91,
   "metadata": {},
   "outputs": [
    {
     "data": {
      "text/html": [
       "<pre style=\"white-space:pre;overflow-x:auto;line-height:normal;font-family:Menlo,'DejaVu Sans Mono',consolas,'Courier New',monospace\"><span style=\"color: #7fbfbf; text-decoration-color: #7fbfbf\">[15:57:21] </span>New file to index: The T-cell niche tunes immune function through modulation of the cytoskeleton and    \n",
       "<span style=\"color: #7fbfbf; text-decoration-color: #7fbfbf\">           </span>TCRantigen forces.pdf<span style=\"color: #808000; text-decoration-color: #808000\">...</span>                                                                                \n",
       "</pre>\n"
      ],
      "text/plain": [
       "\u001b[2;36m[15:57:21]\u001b[0m\u001b[2;36m \u001b[0mNew file to index: The T-cell niche tunes immune function through modulation of the cytoskeleton and    \n",
       "\u001b[2;36m           \u001b[0mTCRantigen forces.pdf\u001b[33m...\u001b[0m                                                                                \n"
      ]
     },
     "metadata": {},
     "output_type": "display_data"
    },
    {
     "data": {
      "text/html": [
       "<pre style=\"white-space:pre;overflow-x:auto;line-height:normal;font-family:Menlo,'DejaVu Sans Mono',consolas,'Courier New',monospace\"><span style=\"color: #7fbfbf; text-decoration-color: #7fbfbf\">[15:57:26] </span>SEMANTIC_SCHOLAR_API_KEY environment variable not set. Semantic Scholar API rate limits may apply.      \n",
       "</pre>\n"
      ],
      "text/plain": [
       "\u001b[2;36m[15:57:26]\u001b[0m\u001b[2;36m \u001b[0mSEMANTIC_SCHOLAR_API_KEY environment variable not set. Semantic Scholar API rate limits may apply.      \n"
      ]
     },
     "metadata": {},
     "output_type": "display_data"
    },
    {
     "data": {
      "text/html": [
       "<pre style=\"white-space:pre;overflow-x:auto;line-height:normal;font-family:Menlo,'DejaVu Sans Mono',consolas,'Courier New',monospace\"><span style=\"color: #7fbfbf; text-decoration-color: #7fbfbf\">[15:57:30] </span>Complete <span style=\"font-weight: bold\">(</span>The T-cell niche tunes immune function through modulation of the cytoskeleton and TCR-antigen \n",
       "<span style=\"color: #7fbfbf; text-decoration-color: #7fbfbf\">           </span>forces<span style=\"font-weight: bold\">)</span>.                                                                                                \n",
       "</pre>\n"
      ],
      "text/plain": [
       "\u001b[2;36m[15:57:30]\u001b[0m\u001b[2;36m \u001b[0mComplete \u001b[1m(\u001b[0mThe T-cell niche tunes immune function through modulation of the cytoskeleton and TCR-antigen \n",
       "\u001b[2;36m           \u001b[0mforces\u001b[1m)\u001b[0m.                                                                                                \n"
      ]
     },
     "metadata": {},
     "output_type": "display_data"
    },
    {
     "name": "stdout",
     "output_type": "stream",
     "text": [
      "Using index: pqa_index_f149e57fac17a94e4c4330421b6db4f7\n",
      "Number of indexed files: 2\n",
      "Indexed files:\n",
      "- darby-et-al-2024-differential-development-of-antibiotic-resistance-and-virulence-between-acinetobacter-species.pdf\n",
      "- The T-cell niche tunes immune function through modulation of the cytoskeleton and TCRantigen forces.pdf\n"
     ]
    }
   ],
   "source": [
    "\n",
    "built_index = await get_directory_index(settings=settings)\n",
    "\n",
    "# Print index information \n",
    "print(f\"Using index: {settings.get_index_name()}\")\n",
    "index_files = await built_index.index_files\n",
    "print(f\"Number of indexed files: {len(index_files)}\")\n",
    "print(\"Indexed files:\")\n",
    "for file in index_files:\n",
    "    print(f\"- {file}\")"
   ]
  },
  {
   "cell_type": "code",
   "execution_count": 92,
   "metadata": {},
   "outputs": [],
   "source": [
    "import nest_asyncio\n",
    "nest_asyncio.apply()"
   ]
  },
  {
   "cell_type": "code",
   "execution_count": 93,
   "metadata": {},
   "outputs": [],
   "source": [
    "# Set up PaperQA2 with the paper directory\n",
    "settings = Settings(\n",
    "    temperature=0.5,  # Keep deterministic\n",
    "    paper_directory=\"/Users/apple/Documents/GitLab_Projects/master_project/xx823/paper-2a\"  # Directory containing the paper with DOI: 10.1101/2024.01.31.578101\n",
    ")"
   ]
  },
  {
   "cell_type": "code",
   "execution_count": 94,
   "metadata": {},
   "outputs": [
    {
     "data": {
      "text/html": [
       "<pre style=\"white-space:pre;overflow-x:auto;line-height:normal;font-family:Menlo,'DejaVu Sans Mono',consolas,'Courier New',monospace\"><span style=\"color: #7fbfbf; text-decoration-color: #7fbfbf\">[15:57:32] </span>Starting paper search for <span style=\"color: #008000; text-decoration-color: #008000\">'bone marrow stromal cell-conditioned media CD8a receptor OT-1 T cells'</span>.      \n",
       "</pre>\n"
      ],
      "text/plain": [
       "\u001b[2;36m[15:57:32]\u001b[0m\u001b[2;36m \u001b[0mStarting paper search for \u001b[32m'bone marrow stromal cell-conditioned media CD8a receptor OT-1 T cells'\u001b[0m.      \n"
      ]
     },
     "metadata": {},
     "output_type": "display_data"
    },
    {
     "data": {
      "text/html": [
       "<pre style=\"white-space:pre;overflow-x:auto;line-height:normal;font-family:Menlo,'DejaVu Sans Mono',consolas,'Courier New',monospace\"><span style=\"color: #7fbfbf; text-decoration-color: #7fbfbf\">           </span>paper_search for query <span style=\"color: #008000; text-decoration-color: #008000\">'bone marrow stromal cell-conditioned media CD8a receptor OT-1 T cells'</span> and      \n",
       "<span style=\"color: #7fbfbf; text-decoration-color: #7fbfbf\">           </span>offset <span style=\"color: #008080; text-decoration-color: #008080; font-weight: bold\">0</span> returned <span style=\"color: #008080; text-decoration-color: #008080; font-weight: bold\">2</span> papers.                                                                             \n",
       "</pre>\n"
      ],
      "text/plain": [
       "\u001b[2;36m          \u001b[0m\u001b[2;36m \u001b[0mpaper_search for query \u001b[32m'bone marrow stromal cell-conditioned media CD8a receptor OT-1 T cells'\u001b[0m and      \n",
       "\u001b[2;36m           \u001b[0moffset \u001b[1;36m0\u001b[0m returned \u001b[1;36m2\u001b[0m papers.                                                                             \n"
      ]
     },
     "metadata": {},
     "output_type": "display_data"
    },
    {
     "data": {
      "text/html": [
       "<pre style=\"white-space:pre;overflow-x:auto;line-height:normal;font-family:Menlo,'DejaVu Sans Mono',consolas,'Courier New',monospace\"><span style=\"color: #7fbfbf; text-decoration-color: #7fbfbf\">           </span>Status: Paper <span style=\"color: #808000; text-decoration-color: #808000\">Count</span>=<span style=\"color: #008080; text-decoration-color: #008080; font-weight: bold\">2</span> | Relevant <span style=\"color: #808000; text-decoration-color: #808000\">Papers</span>=<span style=\"color: #008080; text-decoration-color: #008080; font-weight: bold\">0</span> | Current <span style=\"color: #808000; text-decoration-color: #808000\">Evidence</span>=<span style=\"color: #008080; text-decoration-color: #008080; font-weight: bold\">0</span> | Current <span style=\"color: #808000; text-decoration-color: #808000\">Cost</span>=$<span style=\"color: #008080; text-decoration-color: #008080; font-weight: bold\">0.0021</span>                   \n",
       "</pre>\n"
      ],
      "text/plain": [
       "\u001b[2;36m          \u001b[0m\u001b[2;36m \u001b[0mStatus: Paper \u001b[33mCount\u001b[0m=\u001b[1;36m2\u001b[0m | Relevant \u001b[33mPapers\u001b[0m=\u001b[1;36m0\u001b[0m | Current \u001b[33mEvidence\u001b[0m=\u001b[1;36m0\u001b[0m | Current \u001b[33mCost\u001b[0m=$\u001b[1;36m0.0021\u001b[0m                   \n"
      ]
     },
     "metadata": {},
     "output_type": "display_data"
    },
    {
     "data": {
      "text/html": [
       "<pre style=\"white-space:pre;overflow-x:auto;line-height:normal;font-family:Menlo,'DejaVu Sans Mono',consolas,'Courier New',monospace\"><span style=\"color: #7fbfbf; text-decoration-color: #7fbfbf\">[15:57:35] </span>Starting paper search for <span style=\"color: #008000; text-decoration-color: #008000\">'bone marrow stromal cell-conditioned media CD8a receptor OT-1 T cells'</span>.      \n",
       "</pre>\n"
      ],
      "text/plain": [
       "\u001b[2;36m[15:57:35]\u001b[0m\u001b[2;36m \u001b[0mStarting paper search for \u001b[32m'bone marrow stromal cell-conditioned media CD8a receptor OT-1 T cells'\u001b[0m.      \n"
      ]
     },
     "metadata": {},
     "output_type": "display_data"
    },
    {
     "data": {
      "text/html": [
       "<pre style=\"white-space:pre;overflow-x:auto;line-height:normal;font-family:Menlo,'DejaVu Sans Mono',consolas,'Courier New',monospace\"><span style=\"color: #7fbfbf; text-decoration-color: #7fbfbf\">           </span>paper_search for query <span style=\"color: #008000; text-decoration-color: #008000\">'bone marrow stromal cell-conditioned media CD8a receptor OT-1 T cells'</span> and      \n",
       "<span style=\"color: #7fbfbf; text-decoration-color: #7fbfbf\">           </span>offset <span style=\"color: #008080; text-decoration-color: #008080; font-weight: bold\">8</span> returned <span style=\"color: #008080; text-decoration-color: #008080; font-weight: bold\">0</span> papers.                                                                             \n",
       "</pre>\n"
      ],
      "text/plain": [
       "\u001b[2;36m          \u001b[0m\u001b[2;36m \u001b[0mpaper_search for query \u001b[32m'bone marrow stromal cell-conditioned media CD8a receptor OT-1 T cells'\u001b[0m and      \n",
       "\u001b[2;36m           \u001b[0moffset \u001b[1;36m8\u001b[0m returned \u001b[1;36m0\u001b[0m papers.                                                                             \n"
      ]
     },
     "metadata": {},
     "output_type": "display_data"
    },
    {
     "data": {
      "text/html": [
       "<pre style=\"white-space:pre;overflow-x:auto;line-height:normal;font-family:Menlo,'DejaVu Sans Mono',consolas,'Courier New',monospace\"><span style=\"color: #7fbfbf; text-decoration-color: #7fbfbf\">           </span>Status: Paper <span style=\"color: #808000; text-decoration-color: #808000\">Count</span>=<span style=\"color: #008080; text-decoration-color: #008080; font-weight: bold\">2</span> | Relevant <span style=\"color: #808000; text-decoration-color: #808000\">Papers</span>=<span style=\"color: #008080; text-decoration-color: #008080; font-weight: bold\">0</span> | Current <span style=\"color: #808000; text-decoration-color: #808000\">Evidence</span>=<span style=\"color: #008080; text-decoration-color: #008080; font-weight: bold\">0</span> | Current <span style=\"color: #808000; text-decoration-color: #808000\">Cost</span>=$<span style=\"color: #008080; text-decoration-color: #008080; font-weight: bold\">0.0043</span>                   \n",
       "</pre>\n"
      ],
      "text/plain": [
       "\u001b[2;36m          \u001b[0m\u001b[2;36m \u001b[0mStatus: Paper \u001b[33mCount\u001b[0m=\u001b[1;36m2\u001b[0m | Relevant \u001b[33mPapers\u001b[0m=\u001b[1;36m0\u001b[0m | Current \u001b[33mEvidence\u001b[0m=\u001b[1;36m0\u001b[0m | Current \u001b[33mCost\u001b[0m=$\u001b[1;36m0.0043\u001b[0m                   \n"
      ]
     },
     "metadata": {},
     "output_type": "display_data"
    },
    {
     "data": {
      "text/html": [
       "<pre style=\"white-space:pre;overflow-x:auto;line-height:normal;font-family:Menlo,'DejaVu Sans Mono',consolas,'Courier New',monospace\"><span style=\"color: #7fbfbf; text-decoration-color: #7fbfbf\">[15:57:37] </span>Starting paper search for <span style=\"color: #008000; text-decoration-color: #008000\">'bone marrow stromal cell conditioned media effect on CD8a receptor OT-1 T </span>   \n",
       "<span style=\"color: #7fbfbf; text-decoration-color: #7fbfbf\">           </span><span style=\"color: #008000; text-decoration-color: #008000\">cells'</span>.                                                                                                 \n",
       "</pre>\n"
      ],
      "text/plain": [
       "\u001b[2;36m[15:57:37]\u001b[0m\u001b[2;36m \u001b[0mStarting paper search for \u001b[32m'bone marrow stromal cell conditioned media effect on CD8a receptor OT-1 T \u001b[0m   \n",
       "\u001b[2;36m           \u001b[0m\u001b[32mcells'\u001b[0m.                                                                                                 \n"
      ]
     },
     "metadata": {},
     "output_type": "display_data"
    },
    {
     "data": {
      "text/html": [
       "<pre style=\"white-space:pre;overflow-x:auto;line-height:normal;font-family:Menlo,'DejaVu Sans Mono',consolas,'Courier New',monospace\"><span style=\"color: #7fbfbf; text-decoration-color: #7fbfbf\">           </span>paper_search for query <span style=\"color: #008000; text-decoration-color: #008000\">'bone marrow stromal cell conditioned media effect on CD8a receptor OT-1 T cells'</span>\n",
       "<span style=\"color: #7fbfbf; text-decoration-color: #7fbfbf\">           </span>and offset <span style=\"color: #008080; text-decoration-color: #008080; font-weight: bold\">0</span> returned <span style=\"color: #008080; text-decoration-color: #008080; font-weight: bold\">2</span> papers.                                                                         \n",
       "</pre>\n"
      ],
      "text/plain": [
       "\u001b[2;36m          \u001b[0m\u001b[2;36m \u001b[0mpaper_search for query \u001b[32m'bone marrow stromal cell conditioned media effect on CD8a receptor OT-1 T cells'\u001b[0m\n",
       "\u001b[2;36m           \u001b[0mand offset \u001b[1;36m0\u001b[0m returned \u001b[1;36m2\u001b[0m papers.                                                                         \n"
      ]
     },
     "metadata": {},
     "output_type": "display_data"
    },
    {
     "data": {
      "text/html": [
       "<pre style=\"white-space:pre;overflow-x:auto;line-height:normal;font-family:Menlo,'DejaVu Sans Mono',consolas,'Courier New',monospace\"><span style=\"color: #7fbfbf; text-decoration-color: #7fbfbf\">           </span>Status: Paper <span style=\"color: #808000; text-decoration-color: #808000\">Count</span>=<span style=\"color: #008080; text-decoration-color: #008080; font-weight: bold\">2</span> | Relevant <span style=\"color: #808000; text-decoration-color: #808000\">Papers</span>=<span style=\"color: #008080; text-decoration-color: #008080; font-weight: bold\">0</span> | Current <span style=\"color: #808000; text-decoration-color: #808000\">Evidence</span>=<span style=\"color: #008080; text-decoration-color: #008080; font-weight: bold\">0</span> | Current <span style=\"color: #808000; text-decoration-color: #808000\">Cost</span>=$<span style=\"color: #008080; text-decoration-color: #008080; font-weight: bold\">0.0067</span>                   \n",
       "</pre>\n"
      ],
      "text/plain": [
       "\u001b[2;36m          \u001b[0m\u001b[2;36m \u001b[0mStatus: Paper \u001b[33mCount\u001b[0m=\u001b[1;36m2\u001b[0m | Relevant \u001b[33mPapers\u001b[0m=\u001b[1;36m0\u001b[0m | Current \u001b[33mEvidence\u001b[0m=\u001b[1;36m0\u001b[0m | Current \u001b[33mCost\u001b[0m=$\u001b[1;36m0.0067\u001b[0m                   \n"
      ]
     },
     "metadata": {},
     "output_type": "display_data"
    },
    {
     "data": {
      "text/html": [
       "<pre style=\"white-space:pre;overflow-x:auto;line-height:normal;font-family:Menlo,'DejaVu Sans Mono',consolas,'Courier New',monospace\"><span style=\"color: #7fbfbf; text-decoration-color: #7fbfbf\">[15:57:39] </span>Starting paper search for <span style=\"color: #008000; text-decoration-color: #008000\">'bone marrow stromal cell conditioned media OT-1 T cells CD8a receptor </span>       \n",
       "<span style=\"color: #7fbfbf; text-decoration-color: #7fbfbf\">           </span><span style=\"color: #008000; text-decoration-color: #008000\">expression'</span>.                                                                                            \n",
       "</pre>\n"
      ],
      "text/plain": [
       "\u001b[2;36m[15:57:39]\u001b[0m\u001b[2;36m \u001b[0mStarting paper search for \u001b[32m'bone marrow stromal cell conditioned media OT-1 T cells CD8a receptor \u001b[0m       \n",
       "\u001b[2;36m           \u001b[0m\u001b[32mexpression'\u001b[0m.                                                                                            \n"
      ]
     },
     "metadata": {},
     "output_type": "display_data"
    },
    {
     "data": {
      "text/html": [
       "<pre style=\"white-space:pre;overflow-x:auto;line-height:normal;font-family:Menlo,'DejaVu Sans Mono',consolas,'Courier New',monospace\"><span style=\"color: #7fbfbf; text-decoration-color: #7fbfbf\">           </span>paper_search for query <span style=\"color: #008000; text-decoration-color: #008000\">'bone marrow stromal cell conditioned media OT-1 T cells CD8a receptor </span>          \n",
       "<span style=\"color: #7fbfbf; text-decoration-color: #7fbfbf\">           </span><span style=\"color: #008000; text-decoration-color: #008000\">expression'</span> and offset <span style=\"color: #008080; text-decoration-color: #008080; font-weight: bold\">0</span> returned <span style=\"color: #008080; text-decoration-color: #008080; font-weight: bold\">2</span> papers.                                                             \n",
       "</pre>\n"
      ],
      "text/plain": [
       "\u001b[2;36m          \u001b[0m\u001b[2;36m \u001b[0mpaper_search for query \u001b[32m'bone marrow stromal cell conditioned media OT-1 T cells CD8a receptor \u001b[0m          \n",
       "\u001b[2;36m           \u001b[0m\u001b[32mexpression'\u001b[0m and offset \u001b[1;36m0\u001b[0m returned \u001b[1;36m2\u001b[0m papers.                                                             \n"
      ]
     },
     "metadata": {},
     "output_type": "display_data"
    },
    {
     "data": {
      "text/html": [
       "<pre style=\"white-space:pre;overflow-x:auto;line-height:normal;font-family:Menlo,'DejaVu Sans Mono',consolas,'Courier New',monospace\"><span style=\"color: #7fbfbf; text-decoration-color: #7fbfbf\">           </span>Status: Paper <span style=\"color: #808000; text-decoration-color: #808000\">Count</span>=<span style=\"color: #008080; text-decoration-color: #008080; font-weight: bold\">2</span> | Relevant <span style=\"color: #808000; text-decoration-color: #808000\">Papers</span>=<span style=\"color: #008080; text-decoration-color: #008080; font-weight: bold\">0</span> | Current <span style=\"color: #808000; text-decoration-color: #808000\">Evidence</span>=<span style=\"color: #008080; text-decoration-color: #008080; font-weight: bold\">0</span> | Current <span style=\"color: #808000; text-decoration-color: #808000\">Cost</span>=$<span style=\"color: #008080; text-decoration-color: #008080; font-weight: bold\">0.0094</span>                   \n",
       "</pre>\n"
      ],
      "text/plain": [
       "\u001b[2;36m          \u001b[0m\u001b[2;36m \u001b[0mStatus: Paper \u001b[33mCount\u001b[0m=\u001b[1;36m2\u001b[0m | Relevant \u001b[33mPapers\u001b[0m=\u001b[1;36m0\u001b[0m | Current \u001b[33mEvidence\u001b[0m=\u001b[1;36m0\u001b[0m | Current \u001b[33mCost\u001b[0m=$\u001b[1;36m0.0094\u001b[0m                   \n"
      ]
     },
     "metadata": {},
     "output_type": "display_data"
    },
    {
     "data": {
      "text/html": [
       "<pre style=\"white-space:pre;overflow-x:auto;line-height:normal;font-family:Menlo,'DejaVu Sans Mono',consolas,'Courier New',monospace\"><span style=\"color: #7fbfbf; text-decoration-color: #7fbfbf\">[15:57:41] </span>Starting paper search for <span style=\"color: #008000; text-decoration-color: #008000\">'stromal cell-conditioned media CD8a receptor OT-1 T cells'</span>.                  \n",
       "</pre>\n"
      ],
      "text/plain": [
       "\u001b[2;36m[15:57:41]\u001b[0m\u001b[2;36m \u001b[0mStarting paper search for \u001b[32m'stromal cell-conditioned media CD8a receptor OT-1 T cells'\u001b[0m.                  \n"
      ]
     },
     "metadata": {},
     "output_type": "display_data"
    },
    {
     "data": {
      "text/html": [
       "<pre style=\"white-space:pre;overflow-x:auto;line-height:normal;font-family:Menlo,'DejaVu Sans Mono',consolas,'Courier New',monospace\"><span style=\"color: #7fbfbf; text-decoration-color: #7fbfbf\">           </span>paper_search for query <span style=\"color: #008000; text-decoration-color: #008000\">'stromal cell-conditioned media CD8a receptor OT-1 T cells'</span> and offset <span style=\"color: #008080; text-decoration-color: #008080; font-weight: bold\">0</span> returned\n",
       "<span style=\"color: #7fbfbf; text-decoration-color: #7fbfbf\">           </span><span style=\"color: #008080; text-decoration-color: #008080; font-weight: bold\">2</span> papers.                                                                                               \n",
       "</pre>\n"
      ],
      "text/plain": [
       "\u001b[2;36m          \u001b[0m\u001b[2;36m \u001b[0mpaper_search for query \u001b[32m'stromal cell-conditioned media CD8a receptor OT-1 T cells'\u001b[0m and offset \u001b[1;36m0\u001b[0m returned\n",
       "\u001b[2;36m           \u001b[0m\u001b[1;36m2\u001b[0m papers.                                                                                               \n"
      ]
     },
     "metadata": {},
     "output_type": "display_data"
    },
    {
     "data": {
      "text/html": [
       "<pre style=\"white-space:pre;overflow-x:auto;line-height:normal;font-family:Menlo,'DejaVu Sans Mono',consolas,'Courier New',monospace\"><span style=\"color: #7fbfbf; text-decoration-color: #7fbfbf\">           </span>Status: Paper <span style=\"color: #808000; text-decoration-color: #808000\">Count</span>=<span style=\"color: #008080; text-decoration-color: #008080; font-weight: bold\">2</span> | Relevant <span style=\"color: #808000; text-decoration-color: #808000\">Papers</span>=<span style=\"color: #008080; text-decoration-color: #008080; font-weight: bold\">0</span> | Current <span style=\"color: #808000; text-decoration-color: #808000\">Evidence</span>=<span style=\"color: #008080; text-decoration-color: #008080; font-weight: bold\">0</span> | Current <span style=\"color: #808000; text-decoration-color: #808000\">Cost</span>=$<span style=\"color: #008080; text-decoration-color: #008080; font-weight: bold\">0.0121</span>                   \n",
       "</pre>\n"
      ],
      "text/plain": [
       "\u001b[2;36m          \u001b[0m\u001b[2;36m \u001b[0mStatus: Paper \u001b[33mCount\u001b[0m=\u001b[1;36m2\u001b[0m | Relevant \u001b[33mPapers\u001b[0m=\u001b[1;36m0\u001b[0m | Current \u001b[33mEvidence\u001b[0m=\u001b[1;36m0\u001b[0m | Current \u001b[33mCost\u001b[0m=$\u001b[1;36m0.0121\u001b[0m                   \n"
      ]
     },
     "metadata": {},
     "output_type": "display_data"
    },
    {
     "data": {
      "text/html": [
       "<pre style=\"white-space:pre;overflow-x:auto;line-height:normal;font-family:Menlo,'DejaVu Sans Mono',consolas,'Courier New',monospace\"><span style=\"color: #7fbfbf; text-decoration-color: #7fbfbf\">[15:57:42] </span>Resetting <span style=\"color: #008000; text-decoration-color: #008000\">'Question:Q: What effect does bone marrow stromal cell-conditioned media have on the </span>         \n",
       "<span style=\"color: #7fbfbf; text-decoration-color: #7fbfbf\">           </span><span style=\"color: #008000; text-decoration-color: #008000\">expression of the CD8a receptor in cultured OT-1 T cells?; Options: (A) No effect (B) Insufficient </span>     \n",
       "<span style=\"color: #7fbfbf; text-decoration-color: #7fbfbf\">           </span><span style=\"color: #008000; text-decoration-color: #008000\">information to answer the question (C) Decrease (D) Increase'</span>.                                          \n",
       "</pre>\n"
      ],
      "text/plain": [
       "\u001b[2;36m[15:57:42]\u001b[0m\u001b[2;36m \u001b[0mResetting \u001b[32m'Question:Q: What effect does bone marrow stromal cell-conditioned media have on the \u001b[0m         \n",
       "\u001b[2;36m           \u001b[0m\u001b[32mexpression of the CD8a receptor in cultured OT-1 T cells?; Options: \u001b[0m\u001b[32m(\u001b[0m\u001b[32mA\u001b[0m\u001b[32m)\u001b[0m\u001b[32m No effect \u001b[0m\u001b[32m(\u001b[0m\u001b[32mB\u001b[0m\u001b[32m)\u001b[0m\u001b[32m Insufficient \u001b[0m     \n",
       "\u001b[2;36m           \u001b[0m\u001b[32minformation to answer the question \u001b[0m\u001b[32m(\u001b[0m\u001b[32mC\u001b[0m\u001b[32m)\u001b[0m\u001b[32m Decrease \u001b[0m\u001b[32m(\u001b[0m\u001b[32mD\u001b[0m\u001b[32m)\u001b[0m\u001b[32m Increase'\u001b[0m.                                          \n"
      ]
     },
     "metadata": {},
     "output_type": "display_data"
    },
    {
     "data": {
      "text/html": [
       "<pre style=\"white-space:pre;overflow-x:auto;line-height:normal;font-family:Menlo,'DejaVu Sans Mono',consolas,'Courier New',monospace\"><span style=\"color: #7fbfbf; text-decoration-color: #7fbfbf\">[15:57:43] </span>Starting paper search for <span style=\"color: #008000; text-decoration-color: #008000\">'bone marrow stromal cell-conditioned media CD8a receptor OT-1 T cells'</span>.      \n",
       "</pre>\n"
      ],
      "text/plain": [
       "\u001b[2;36m[15:57:43]\u001b[0m\u001b[2;36m \u001b[0mStarting paper search for \u001b[32m'bone marrow stromal cell-conditioned media CD8a receptor OT-1 T cells'\u001b[0m.      \n"
      ]
     },
     "metadata": {},
     "output_type": "display_data"
    },
    {
     "data": {
      "text/html": [
       "<pre style=\"white-space:pre;overflow-x:auto;line-height:normal;font-family:Menlo,'DejaVu Sans Mono',consolas,'Courier New',monospace\"><span style=\"color: #7fbfbf; text-decoration-color: #7fbfbf\">           </span>paper_search for query <span style=\"color: #008000; text-decoration-color: #008000\">'bone marrow stromal cell-conditioned media CD8a receptor OT-1 T cells'</span> and      \n",
       "<span style=\"color: #7fbfbf; text-decoration-color: #7fbfbf\">           </span>offset <span style=\"color: #008080; text-decoration-color: #008080; font-weight: bold\">16</span> returned <span style=\"color: #008080; text-decoration-color: #008080; font-weight: bold\">0</span> papers.                                                                            \n",
       "</pre>\n"
      ],
      "text/plain": [
       "\u001b[2;36m          \u001b[0m\u001b[2;36m \u001b[0mpaper_search for query \u001b[32m'bone marrow stromal cell-conditioned media CD8a receptor OT-1 T cells'\u001b[0m and      \n",
       "\u001b[2;36m           \u001b[0moffset \u001b[1;36m16\u001b[0m returned \u001b[1;36m0\u001b[0m papers.                                                                            \n"
      ]
     },
     "metadata": {},
     "output_type": "display_data"
    },
    {
     "data": {
      "text/html": [
       "<pre style=\"white-space:pre;overflow-x:auto;line-height:normal;font-family:Menlo,'DejaVu Sans Mono',consolas,'Courier New',monospace\"><span style=\"color: #7fbfbf; text-decoration-color: #7fbfbf\">           </span>Status: Paper <span style=\"color: #808000; text-decoration-color: #808000\">Count</span>=<span style=\"color: #008080; text-decoration-color: #008080; font-weight: bold\">2</span> | Relevant <span style=\"color: #808000; text-decoration-color: #808000\">Papers</span>=<span style=\"color: #008080; text-decoration-color: #008080; font-weight: bold\">0</span> | Current <span style=\"color: #808000; text-decoration-color: #808000\">Evidence</span>=<span style=\"color: #008080; text-decoration-color: #008080; font-weight: bold\">0</span> | Current <span style=\"color: #808000; text-decoration-color: #808000\">Cost</span>=$<span style=\"color: #008080; text-decoration-color: #008080; font-weight: bold\">0.0178</span>                   \n",
       "</pre>\n"
      ],
      "text/plain": [
       "\u001b[2;36m          \u001b[0m\u001b[2;36m \u001b[0mStatus: Paper \u001b[33mCount\u001b[0m=\u001b[1;36m2\u001b[0m | Relevant \u001b[33mPapers\u001b[0m=\u001b[1;36m0\u001b[0m | Current \u001b[33mEvidence\u001b[0m=\u001b[1;36m0\u001b[0m | Current \u001b[33mCost\u001b[0m=$\u001b[1;36m0.0178\u001b[0m                   \n"
      ]
     },
     "metadata": {},
     "output_type": "display_data"
    },
    {
     "data": {
      "text/html": [
       "<pre style=\"white-space:pre;overflow-x:auto;line-height:normal;font-family:Menlo,'DejaVu Sans Mono',consolas,'Courier New',monospace\"><span style=\"color: #7fbfbf; text-decoration-color: #7fbfbf\">[15:57:45] </span>Starting paper search for <span style=\"color: #008000; text-decoration-color: #008000\">'bone marrow stromal cell conditioned media effect on CD8a receptor OT-1 T </span>   \n",
       "<span style=\"color: #7fbfbf; text-decoration-color: #7fbfbf\">           </span><span style=\"color: #008000; text-decoration-color: #008000\">cells'</span>.                                                                                                 \n",
       "</pre>\n"
      ],
      "text/plain": [
       "\u001b[2;36m[15:57:45]\u001b[0m\u001b[2;36m \u001b[0mStarting paper search for \u001b[32m'bone marrow stromal cell conditioned media effect on CD8a receptor OT-1 T \u001b[0m   \n",
       "\u001b[2;36m           \u001b[0m\u001b[32mcells'\u001b[0m.                                                                                                 \n"
      ]
     },
     "metadata": {},
     "output_type": "display_data"
    },
    {
     "data": {
      "text/html": [
       "<pre style=\"white-space:pre;overflow-x:auto;line-height:normal;font-family:Menlo,'DejaVu Sans Mono',consolas,'Courier New',monospace\"><span style=\"color: #7fbfbf; text-decoration-color: #7fbfbf\">           </span>paper_search for query <span style=\"color: #008000; text-decoration-color: #008000\">'bone marrow stromal cell conditioned media effect on CD8a receptor OT-1 T cells'</span>\n",
       "<span style=\"color: #7fbfbf; text-decoration-color: #7fbfbf\">           </span>and offset <span style=\"color: #008080; text-decoration-color: #008080; font-weight: bold\">8</span> returned <span style=\"color: #008080; text-decoration-color: #008080; font-weight: bold\">0</span> papers.                                                                         \n",
       "</pre>\n"
      ],
      "text/plain": [
       "\u001b[2;36m          \u001b[0m\u001b[2;36m \u001b[0mpaper_search for query \u001b[32m'bone marrow stromal cell conditioned media effect on CD8a receptor OT-1 T cells'\u001b[0m\n",
       "\u001b[2;36m           \u001b[0mand offset \u001b[1;36m8\u001b[0m returned \u001b[1;36m0\u001b[0m papers.                                                                         \n"
      ]
     },
     "metadata": {},
     "output_type": "display_data"
    },
    {
     "data": {
      "text/html": [
       "<pre style=\"white-space:pre;overflow-x:auto;line-height:normal;font-family:Menlo,'DejaVu Sans Mono',consolas,'Courier New',monospace\"><span style=\"color: #7fbfbf; text-decoration-color: #7fbfbf\">           </span>Status: Paper <span style=\"color: #808000; text-decoration-color: #808000\">Count</span>=<span style=\"color: #008080; text-decoration-color: #008080; font-weight: bold\">2</span> | Relevant <span style=\"color: #808000; text-decoration-color: #808000\">Papers</span>=<span style=\"color: #008080; text-decoration-color: #008080; font-weight: bold\">0</span> | Current <span style=\"color: #808000; text-decoration-color: #808000\">Evidence</span>=<span style=\"color: #008080; text-decoration-color: #008080; font-weight: bold\">0</span> | Current <span style=\"color: #808000; text-decoration-color: #808000\">Cost</span>=$<span style=\"color: #008080; text-decoration-color: #008080; font-weight: bold\">0.0210</span>                   \n",
       "</pre>\n"
      ],
      "text/plain": [
       "\u001b[2;36m          \u001b[0m\u001b[2;36m \u001b[0mStatus: Paper \u001b[33mCount\u001b[0m=\u001b[1;36m2\u001b[0m | Relevant \u001b[33mPapers\u001b[0m=\u001b[1;36m0\u001b[0m | Current \u001b[33mEvidence\u001b[0m=\u001b[1;36m0\u001b[0m | Current \u001b[33mCost\u001b[0m=$\u001b[1;36m0.0210\u001b[0m                   \n"
      ]
     },
     "metadata": {},
     "output_type": "display_data"
    },
    {
     "data": {
      "text/html": [
       "<pre style=\"white-space:pre;overflow-x:auto;line-height:normal;font-family:Menlo,'DejaVu Sans Mono',consolas,'Courier New',monospace\"><span style=\"color: #7fbfbf; text-decoration-color: #7fbfbf\">[15:57:47] </span>Starting paper search for <span style=\"color: #008000; text-decoration-color: #008000\">'stromal cell-conditioned media CD8a receptor OT-1 T cells'</span>.                  \n",
       "</pre>\n"
      ],
      "text/plain": [
       "\u001b[2;36m[15:57:47]\u001b[0m\u001b[2;36m \u001b[0mStarting paper search for \u001b[32m'stromal cell-conditioned media CD8a receptor OT-1 T cells'\u001b[0m.                  \n"
      ]
     },
     "metadata": {},
     "output_type": "display_data"
    },
    {
     "data": {
      "text/html": [
       "<pre style=\"white-space:pre;overflow-x:auto;line-height:normal;font-family:Menlo,'DejaVu Sans Mono',consolas,'Courier New',monospace\"><span style=\"color: #7fbfbf; text-decoration-color: #7fbfbf\">           </span>paper_search for query <span style=\"color: #008000; text-decoration-color: #008000\">'stromal cell-conditioned media CD8a receptor OT-1 T cells'</span> and offset <span style=\"color: #008080; text-decoration-color: #008080; font-weight: bold\">8</span> returned\n",
       "<span style=\"color: #7fbfbf; text-decoration-color: #7fbfbf\">           </span><span style=\"color: #008080; text-decoration-color: #008080; font-weight: bold\">0</span> papers.                                                                                               \n",
       "</pre>\n"
      ],
      "text/plain": [
       "\u001b[2;36m          \u001b[0m\u001b[2;36m \u001b[0mpaper_search for query \u001b[32m'stromal cell-conditioned media CD8a receptor OT-1 T cells'\u001b[0m and offset \u001b[1;36m8\u001b[0m returned\n",
       "\u001b[2;36m           \u001b[0m\u001b[1;36m0\u001b[0m papers.                                                                                               \n"
      ]
     },
     "metadata": {},
     "output_type": "display_data"
    },
    {
     "data": {
      "text/html": [
       "<pre style=\"white-space:pre;overflow-x:auto;line-height:normal;font-family:Menlo,'DejaVu Sans Mono',consolas,'Courier New',monospace\"><span style=\"color: #7fbfbf; text-decoration-color: #7fbfbf\">           </span>Status: Paper <span style=\"color: #808000; text-decoration-color: #808000\">Count</span>=<span style=\"color: #008080; text-decoration-color: #008080; font-weight: bold\">2</span> | Relevant <span style=\"color: #808000; text-decoration-color: #808000\">Papers</span>=<span style=\"color: #008080; text-decoration-color: #008080; font-weight: bold\">0</span> | Current <span style=\"color: #808000; text-decoration-color: #808000\">Evidence</span>=<span style=\"color: #008080; text-decoration-color: #008080; font-weight: bold\">0</span> | Current <span style=\"color: #808000; text-decoration-color: #808000\">Cost</span>=$<span style=\"color: #008080; text-decoration-color: #008080; font-weight: bold\">0.0243</span>                   \n",
       "</pre>\n"
      ],
      "text/plain": [
       "\u001b[2;36m          \u001b[0m\u001b[2;36m \u001b[0mStatus: Paper \u001b[33mCount\u001b[0m=\u001b[1;36m2\u001b[0m | Relevant \u001b[33mPapers\u001b[0m=\u001b[1;36m0\u001b[0m | Current \u001b[33mEvidence\u001b[0m=\u001b[1;36m0\u001b[0m | Current \u001b[33mCost\u001b[0m=$\u001b[1;36m0.0243\u001b[0m                   \n"
      ]
     },
     "metadata": {},
     "output_type": "display_data"
    },
    {
     "data": {
      "text/html": [
       "<pre style=\"white-space:pre;overflow-x:auto;line-height:normal;font-family:Menlo,'DejaVu Sans Mono',consolas,'Courier New',monospace\"><span style=\"color: #7fbfbf; text-decoration-color: #7fbfbf\">[15:57:48] </span>Starting paper search for <span style=\"color: #008000; text-decoration-color: #008000\">'bone marrow stromal cells CD8a receptor OT-1 T cells'</span>.                       \n",
       "</pre>\n"
      ],
      "text/plain": [
       "\u001b[2;36m[15:57:48]\u001b[0m\u001b[2;36m \u001b[0mStarting paper search for \u001b[32m'bone marrow stromal cells CD8a receptor OT-1 T cells'\u001b[0m.                       \n"
      ]
     },
     "metadata": {},
     "output_type": "display_data"
    },
    {
     "data": {
      "text/html": [
       "<pre style=\"white-space:pre;overflow-x:auto;line-height:normal;font-family:Menlo,'DejaVu Sans Mono',consolas,'Courier New',monospace\"><span style=\"color: #7fbfbf; text-decoration-color: #7fbfbf\">           </span>paper_search for query <span style=\"color: #008000; text-decoration-color: #008000\">'bone marrow stromal cells CD8a receptor OT-1 T cells'</span> and offset <span style=\"color: #008080; text-decoration-color: #008080; font-weight: bold\">0</span> returned <span style=\"color: #008080; text-decoration-color: #008080; font-weight: bold\">2</span>   \n",
       "<span style=\"color: #7fbfbf; text-decoration-color: #7fbfbf\">           </span>papers.                                                                                                 \n",
       "</pre>\n"
      ],
      "text/plain": [
       "\u001b[2;36m          \u001b[0m\u001b[2;36m \u001b[0mpaper_search for query \u001b[32m'bone marrow stromal cells CD8a receptor OT-1 T cells'\u001b[0m and offset \u001b[1;36m0\u001b[0m returned \u001b[1;36m2\u001b[0m   \n",
       "\u001b[2;36m           \u001b[0mpapers.                                                                                                 \n"
      ]
     },
     "metadata": {},
     "output_type": "display_data"
    },
    {
     "data": {
      "text/html": [
       "<pre style=\"white-space:pre;overflow-x:auto;line-height:normal;font-family:Menlo,'DejaVu Sans Mono',consolas,'Courier New',monospace\"><span style=\"color: #7fbfbf; text-decoration-color: #7fbfbf\">           </span>Status: Paper <span style=\"color: #808000; text-decoration-color: #808000\">Count</span>=<span style=\"color: #008080; text-decoration-color: #008080; font-weight: bold\">2</span> | Relevant <span style=\"color: #808000; text-decoration-color: #808000\">Papers</span>=<span style=\"color: #008080; text-decoration-color: #008080; font-weight: bold\">0</span> | Current <span style=\"color: #808000; text-decoration-color: #808000\">Evidence</span>=<span style=\"color: #008080; text-decoration-color: #008080; font-weight: bold\">0</span> | Current <span style=\"color: #808000; text-decoration-color: #808000\">Cost</span>=$<span style=\"color: #008080; text-decoration-color: #008080; font-weight: bold\">0.0278</span>                   \n",
       "</pre>\n"
      ],
      "text/plain": [
       "\u001b[2;36m          \u001b[0m\u001b[2;36m \u001b[0mStatus: Paper \u001b[33mCount\u001b[0m=\u001b[1;36m2\u001b[0m | Relevant \u001b[33mPapers\u001b[0m=\u001b[1;36m0\u001b[0m | Current \u001b[33mEvidence\u001b[0m=\u001b[1;36m0\u001b[0m | Current \u001b[33mCost\u001b[0m=$\u001b[1;36m0.0278\u001b[0m                   \n"
      ]
     },
     "metadata": {},
     "output_type": "display_data"
    },
    {
     "data": {
      "text/html": [
       "<pre style=\"white-space:pre;overflow-x:auto;line-height:normal;font-family:Menlo,'DejaVu Sans Mono',consolas,'Courier New',monospace\"><span style=\"color: #7fbfbf; text-decoration-color: #7fbfbf\">[15:57:50] </span>Starting paper search for <span style=\"color: #008000; text-decoration-color: #008000\">'bone marrow stromal cells OT-1 T cells CD8a receptor expression'</span>.            \n",
       "</pre>\n"
      ],
      "text/plain": [
       "\u001b[2;36m[15:57:50]\u001b[0m\u001b[2;36m \u001b[0mStarting paper search for \u001b[32m'bone marrow stromal cells OT-1 T cells CD8a receptor expression'\u001b[0m.            \n"
      ]
     },
     "metadata": {},
     "output_type": "display_data"
    },
    {
     "data": {
      "text/html": [
       "<pre style=\"white-space:pre;overflow-x:auto;line-height:normal;font-family:Menlo,'DejaVu Sans Mono',consolas,'Courier New',monospace\"><span style=\"color: #7fbfbf; text-decoration-color: #7fbfbf\">           </span>paper_search for query <span style=\"color: #008000; text-decoration-color: #008000\">'bone marrow stromal cells OT-1 T cells CD8a receptor expression'</span> and offset <span style=\"color: #008080; text-decoration-color: #008080; font-weight: bold\">0</span>   \n",
       "<span style=\"color: #7fbfbf; text-decoration-color: #7fbfbf\">           </span>returned <span style=\"color: #008080; text-decoration-color: #008080; font-weight: bold\">2</span> papers.                                                                                      \n",
       "</pre>\n"
      ],
      "text/plain": [
       "\u001b[2;36m          \u001b[0m\u001b[2;36m \u001b[0mpaper_search for query \u001b[32m'bone marrow stromal cells OT-1 T cells CD8a receptor expression'\u001b[0m and offset \u001b[1;36m0\u001b[0m   \n",
       "\u001b[2;36m           \u001b[0mreturned \u001b[1;36m2\u001b[0m papers.                                                                                      \n"
      ]
     },
     "metadata": {},
     "output_type": "display_data"
    },
    {
     "data": {
      "text/html": [
       "<pre style=\"white-space:pre;overflow-x:auto;line-height:normal;font-family:Menlo,'DejaVu Sans Mono',consolas,'Courier New',monospace\"><span style=\"color: #7fbfbf; text-decoration-color: #7fbfbf\">           </span>Status: Paper <span style=\"color: #808000; text-decoration-color: #808000\">Count</span>=<span style=\"color: #008080; text-decoration-color: #008080; font-weight: bold\">2</span> | Relevant <span style=\"color: #808000; text-decoration-color: #808000\">Papers</span>=<span style=\"color: #008080; text-decoration-color: #008080; font-weight: bold\">0</span> | Current <span style=\"color: #808000; text-decoration-color: #808000\">Evidence</span>=<span style=\"color: #008080; text-decoration-color: #008080; font-weight: bold\">0</span> | Current <span style=\"color: #808000; text-decoration-color: #808000\">Cost</span>=$<span style=\"color: #008080; text-decoration-color: #008080; font-weight: bold\">0.0315</span>                   \n",
       "</pre>\n"
      ],
      "text/plain": [
       "\u001b[2;36m          \u001b[0m\u001b[2;36m \u001b[0mStatus: Paper \u001b[33mCount\u001b[0m=\u001b[1;36m2\u001b[0m | Relevant \u001b[33mPapers\u001b[0m=\u001b[1;36m0\u001b[0m | Current \u001b[33mEvidence\u001b[0m=\u001b[1;36m0\u001b[0m | Current \u001b[33mCost\u001b[0m=$\u001b[1;36m0.0315\u001b[0m                   \n"
      ]
     },
     "metadata": {},
     "output_type": "display_data"
    },
    {
     "data": {
      "text/html": [
       "<pre style=\"white-space:pre;overflow-x:auto;line-height:normal;font-family:Menlo,'DejaVu Sans Mono',consolas,'Courier New',monospace\"><span style=\"color: #7fbfbf; text-decoration-color: #7fbfbf\">[15:57:51] </span>Completing <span style=\"color: #008000; text-decoration-color: #008000\">'Question:Q: What effect does bone marrow stromal cell-conditioned media have on the </span>        \n",
       "<span style=\"color: #7fbfbf; text-decoration-color: #7fbfbf\">           </span><span style=\"color: #008000; text-decoration-color: #008000\">expression of the CD8a receptor in cultured OT-1 T cells?; Options: (A) No effect (B) Insufficient </span>     \n",
       "<span style=\"color: #7fbfbf; text-decoration-color: #7fbfbf\">           </span><span style=\"color: #008000; text-decoration-color: #008000\">information to answer the question (C) Decrease (D) Increase'</span> as <span style=\"color: #008000; text-decoration-color: #008000\">'unsure'</span>.                              \n",
       "</pre>\n"
      ],
      "text/plain": [
       "\u001b[2;36m[15:57:51]\u001b[0m\u001b[2;36m \u001b[0mCompleting \u001b[32m'Question:Q: What effect does bone marrow stromal cell-conditioned media have on the \u001b[0m        \n",
       "\u001b[2;36m           \u001b[0m\u001b[32mexpression of the CD8a receptor in cultured OT-1 T cells?; Options: \u001b[0m\u001b[32m(\u001b[0m\u001b[32mA\u001b[0m\u001b[32m)\u001b[0m\u001b[32m No effect \u001b[0m\u001b[32m(\u001b[0m\u001b[32mB\u001b[0m\u001b[32m)\u001b[0m\u001b[32m Insufficient \u001b[0m     \n",
       "\u001b[2;36m           \u001b[0m\u001b[32minformation to answer the question \u001b[0m\u001b[32m(\u001b[0m\u001b[32mC\u001b[0m\u001b[32m)\u001b[0m\u001b[32m Decrease \u001b[0m\u001b[32m(\u001b[0m\u001b[32mD\u001b[0m\u001b[32m)\u001b[0m\u001b[32m Increase'\u001b[0m as \u001b[32m'unsure'\u001b[0m.                              \n"
      ]
     },
     "metadata": {},
     "output_type": "display_data"
    },
    {
     "data": {
      "text/html": [
       "<pre style=\"white-space:pre;overflow-x:auto;line-height:normal;font-family:Menlo,'DejaVu Sans Mono',consolas,'Courier New',monospace\"><span style=\"color: #7fbfbf; text-decoration-color: #7fbfbf\">           </span>Generating answer for <span style=\"color: #008000; text-decoration-color: #008000\">'Question:Q: What effect does bone marrow stromal cell-conditioned media have on </span> \n",
       "<span style=\"color: #7fbfbf; text-decoration-color: #7fbfbf\">           </span><span style=\"color: #008000; text-decoration-color: #008000\">the expression of the CD8a receptor in cultured OT-1 T cells?; Options: (A) No effect (B) Insufficient </span> \n",
       "<span style=\"color: #7fbfbf; text-decoration-color: #7fbfbf\">           </span><span style=\"color: #008000; text-decoration-color: #008000\">information to answer the question (C) Decrease (D) Increase'</span>.                                          \n",
       "</pre>\n"
      ],
      "text/plain": [
       "\u001b[2;36m          \u001b[0m\u001b[2;36m \u001b[0mGenerating answer for \u001b[32m'Question:Q: What effect does bone marrow stromal cell-conditioned media have on \u001b[0m \n",
       "\u001b[2;36m           \u001b[0m\u001b[32mthe expression of the CD8a receptor in cultured OT-1 T cells?; Options: \u001b[0m\u001b[32m(\u001b[0m\u001b[32mA\u001b[0m\u001b[32m)\u001b[0m\u001b[32m No effect \u001b[0m\u001b[32m(\u001b[0m\u001b[32mB\u001b[0m\u001b[32m)\u001b[0m\u001b[32m Insufficient \u001b[0m \n",
       "\u001b[2;36m           \u001b[0m\u001b[32minformation to answer the question \u001b[0m\u001b[32m(\u001b[0m\u001b[32mC\u001b[0m\u001b[32m)\u001b[0m\u001b[32m Decrease \u001b[0m\u001b[32m(\u001b[0m\u001b[32mD\u001b[0m\u001b[32m)\u001b[0m\u001b[32m Increase'\u001b[0m.                                          \n"
      ]
     },
     "metadata": {},
     "output_type": "display_data"
    },
    {
     "data": {
      "text/html": [
       "<pre style=\"white-space:pre;overflow-x:auto;line-height:normal;font-family:Menlo,'DejaVu Sans Mono',consolas,'Courier New',monospace\"><span style=\"color: #7fbfbf; text-decoration-color: #7fbfbf\">[15:58:10] </span>Status: Paper <span style=\"color: #808000; text-decoration-color: #808000\">Count</span>=<span style=\"color: #008080; text-decoration-color: #008080; font-weight: bold\">2</span> | Relevant <span style=\"color: #808000; text-decoration-color: #808000\">Papers</span>=<span style=\"color: #008080; text-decoration-color: #008080; font-weight: bold\">1</span> | Current <span style=\"color: #808000; text-decoration-color: #808000\">Evidence</span>=<span style=\"color: #008080; text-decoration-color: #008080; font-weight: bold\">9</span> | Current <span style=\"color: #808000; text-decoration-color: #808000\">Cost</span>=$<span style=\"color: #008080; text-decoration-color: #008080; font-weight: bold\">0.0975</span>                   \n",
       "</pre>\n"
      ],
      "text/plain": [
       "\u001b[2;36m[15:58:10]\u001b[0m\u001b[2;36m \u001b[0mStatus: Paper \u001b[33mCount\u001b[0m=\u001b[1;36m2\u001b[0m | Relevant \u001b[33mPapers\u001b[0m=\u001b[1;36m1\u001b[0m | Current \u001b[33mEvidence\u001b[0m=\u001b[1;36m9\u001b[0m | Current \u001b[33mCost\u001b[0m=$\u001b[1;36m0.0975\u001b[0m                   \n"
      ]
     },
     "metadata": {},
     "output_type": "display_data"
    },
    {
     "data": {
      "text/html": [
       "<pre style=\"white-space:pre;overflow-x:auto;line-height:normal;font-family:Menlo,'DejaVu Sans Mono',consolas,'Courier New',monospace\"><span style=\"color: #7fbfbf; text-decoration-color: #7fbfbf\">           </span><span style=\"color: #000080; text-decoration-color: #000080; font-weight: bold\">Answer: Bone marrow stromal cell-conditioned media (SCM) has no measurable effect on the expression of </span> \n",
       "<span style=\"color: #7fbfbf; text-decoration-color: #7fbfbf\">           </span><span style=\"color: #000080; text-decoration-color: #000080; font-weight: bold\">the CD8α receptor in cultured OT-</span><span style=\"color: #008080; text-decoration-color: #008080; font-weight: bold\">1</span><span style=\"color: #000080; text-decoration-color: #000080; font-weight: bold\"> T cells. Multiple studies within the provided context indicate that </span> \n",
       "<span style=\"color: #7fbfbf; text-decoration-color: #7fbfbf\">           </span><span style=\"color: #000080; text-decoration-color: #000080; font-weight: bold\">there is no significant difference in CD8α expression when OT-</span><span style=\"color: #008080; text-decoration-color: #008080; font-weight: bold\">1</span><span style=\"color: #000080; text-decoration-color: #000080; font-weight: bold\"> T cells are treated with SCM compared to</span>\n",
       "<span style=\"color: #7fbfbf; text-decoration-color: #7fbfbf\">           </span><span style=\"color: #000080; text-decoration-color: #000080; font-weight: bold\">unconditioned media (UCM) or adipocyte-conditioned media (ACM). Statistical analyses demonstrated </span>      \n",
       "<span style=\"color: #7fbfbf; text-decoration-color: #7fbfbf\">           </span><span style=\"color: #000080; text-decoration-color: #000080; font-weight: bold\">P-values of </span><span style=\"color: #008080; text-decoration-color: #008080; font-weight: bold\">0.7383</span><span style=\"color: #000080; text-decoration-color: #000080; font-weight: bold\"> for UCM vs. SCM, </span><span style=\"color: #008080; text-decoration-color: #008080; font-weight: bold\">0.9964</span><span style=\"color: #000080; text-decoration-color: #000080; font-weight: bold\"> for UCM vs. ACM, and </span><span style=\"color: #008080; text-decoration-color: #008080; font-weight: bold\">0.7830</span><span style=\"color: #000080; text-decoration-color: #000080; font-weight: bold\"> for SCM vs. ACM, confirming the </span> \n",
       "<span style=\"color: #7fbfbf; text-decoration-color: #7fbfbf\">           </span><span style=\"color: #000080; text-decoration-color: #000080; font-weight: bold\">lack of significant changes in CD8α receptor expression (kellner2024thetcellniche pages </span><span style=\"color: #008080; text-decoration-color: #008080; font-weight: bold\">3</span><span style=\"color: #000080; text-decoration-color: #000080; font-weight: bold\">-</span><span style=\"color: #008080; text-decoration-color: #008080; font-weight: bold\">5</span><span style=\"color: #000080; text-decoration-color: #000080; font-weight: bold\">). </span>          \n",
       "<span style=\"color: #7fbfbf; text-decoration-color: #7fbfbf\">           </span>                                                                                                        \n",
       "<span style=\"color: #7fbfbf; text-decoration-color: #7fbfbf\">           </span><span style=\"color: #000080; text-decoration-color: #000080; font-weight: bold\">Similarly, observations from experiments using flow cytometry and other methods did not report any </span>     \n",
       "<span style=\"color: #7fbfbf; text-decoration-color: #7fbfbf\">           </span><span style=\"color: #000080; text-decoration-color: #000080; font-weight: bold\">specific alteration in CD8α expression after incubation in SCM (kellner2024thetcellniche pages </span><span style=\"color: #008080; text-decoration-color: #008080; font-weight: bold\">5</span><span style=\"color: #000080; text-decoration-color: #000080; font-weight: bold\">-</span><span style=\"color: #008080; text-decoration-color: #008080; font-weight: bold\">6</span><span style=\"color: #000080; text-decoration-color: #000080; font-weight: bold\">, </span>    \n",
       "<span style=\"color: #7fbfbf; text-decoration-color: #7fbfbf\">           </span><span style=\"color: #000080; text-decoration-color: #000080; font-weight: bold\">kellner2024thetcellniche pages </span><span style=\"color: #008080; text-decoration-color: #008080; font-weight: bold\">25</span><span style=\"color: #000080; text-decoration-color: #000080; font-weight: bold\">-</span><span style=\"color: #008080; text-decoration-color: #008080; font-weight: bold\">26</span><span style=\"color: #000080; text-decoration-color: #000080; font-weight: bold\">). While SCM has been shown to enhance other T-cell functions, such </span>\n",
       "<span style=\"color: #7fbfbf; text-decoration-color: #7fbfbf\">           </span><span style=\"color: #000080; text-decoration-color: #000080; font-weight: bold\">as activation markers and cytoskeletal adaptors, no evidence suggests its involvement in modulating CD8α</span>\n",
       "<span style=\"color: #7fbfbf; text-decoration-color: #7fbfbf\">           </span><span style=\"color: #000080; text-decoration-color: #000080; font-weight: bold\">receptor levels in OT-</span><span style=\"color: #008080; text-decoration-color: #008080; font-weight: bold\">1</span><span style=\"color: #000080; text-decoration-color: #000080; font-weight: bold\"> T cells (kellner2024thetcellniche pages </span><span style=\"color: #008080; text-decoration-color: #008080; font-weight: bold\">2</span><span style=\"color: #000080; text-decoration-color: #000080; font-weight: bold\">-</span><span style=\"color: #008080; text-decoration-color: #008080; font-weight: bold\">3</span><span style=\"color: #000080; text-decoration-color: #000080; font-weight: bold\">, kellner2024thetcellniche pages </span>    \n",
       "<span style=\"color: #7fbfbf; text-decoration-color: #7fbfbf\">           </span><span style=\"color: #008080; text-decoration-color: #008080; font-weight: bold\">16</span><span style=\"color: #000080; text-decoration-color: #000080; font-weight: bold\">-</span><span style=\"color: #008080; text-decoration-color: #008080; font-weight: bold\">18</span><span style=\"color: #000080; text-decoration-color: #000080; font-weight: bold\">). </span>                                                                                                \n",
       "<span style=\"color: #7fbfbf; text-decoration-color: #7fbfbf\">           </span>                                                                                                        \n",
       "<span style=\"color: #7fbfbf; text-decoration-color: #7fbfbf\">           </span><span style=\"color: #000080; text-decoration-color: #000080; font-weight: bold\">Thus, the current data support the conclusion that SCM does not affect CD8α expression in OT-</span><span style=\"color: #008080; text-decoration-color: #008080; font-weight: bold\">1</span><span style=\"color: #000080; text-decoration-color: #000080; font-weight: bold\"> T cells.</span> \n",
       "</pre>\n"
      ],
      "text/plain": [
       "\u001b[2;36m          \u001b[0m\u001b[2;36m \u001b[0m\u001b[1;34mAnswer: Bone marrow stromal cell-conditioned media \u001b[0m\u001b[1;34m(\u001b[0m\u001b[1;34mSCM\u001b[0m\u001b[1;34m)\u001b[0m\u001b[1;34m has no measurable effect on the expression of \u001b[0m \n",
       "\u001b[2;36m           \u001b[0m\u001b[1;34mthe CD8α receptor in cultured OT-\u001b[0m\u001b[1;36m1\u001b[0m\u001b[1;34m T cells. Multiple studies within the provided context indicate that \u001b[0m \n",
       "\u001b[2;36m           \u001b[0m\u001b[1;34mthere is no significant difference in CD8α expression when OT-\u001b[0m\u001b[1;36m1\u001b[0m\u001b[1;34m T cells are treated with SCM compared to\u001b[0m\n",
       "\u001b[2;36m           \u001b[0m\u001b[1;34munconditioned media \u001b[0m\u001b[1;34m(\u001b[0m\u001b[1;34mUCM\u001b[0m\u001b[1;34m)\u001b[0m\u001b[1;34m or adipocyte-conditioned media \u001b[0m\u001b[1;34m(\u001b[0m\u001b[1;34mACM\u001b[0m\u001b[1;34m)\u001b[0m\u001b[1;34m. Statistical analyses demonstrated \u001b[0m      \n",
       "\u001b[2;36m           \u001b[0m\u001b[1;34mP-values of \u001b[0m\u001b[1;36m0.7383\u001b[0m\u001b[1;34m for UCM vs. SCM, \u001b[0m\u001b[1;36m0.9964\u001b[0m\u001b[1;34m for UCM vs. ACM, and \u001b[0m\u001b[1;36m0.7830\u001b[0m\u001b[1;34m for SCM vs. ACM, confirming the \u001b[0m \n",
       "\u001b[2;36m           \u001b[0m\u001b[1;34mlack of significant changes in CD8α receptor expression \u001b[0m\u001b[1;34m(\u001b[0m\u001b[1;34mkellner2024thetcellniche pages \u001b[0m\u001b[1;36m3\u001b[0m\u001b[1;34m-\u001b[0m\u001b[1;36m5\u001b[0m\u001b[1;34m)\u001b[0m\u001b[1;34m. \u001b[0m          \n",
       "\u001b[2;36m           \u001b[0m                                                                                                        \n",
       "\u001b[2;36m           \u001b[0m\u001b[1;34mSimilarly, observations from experiments using flow cytometry and other methods did not report any \u001b[0m     \n",
       "\u001b[2;36m           \u001b[0m\u001b[1;34mspecific alteration in CD8α expression after incubation in SCM \u001b[0m\u001b[1;34m(\u001b[0m\u001b[1;34mkellner2024thetcellniche pages \u001b[0m\u001b[1;36m5\u001b[0m\u001b[1;34m-\u001b[0m\u001b[1;36m6\u001b[0m\u001b[1;34m, \u001b[0m    \n",
       "\u001b[2;36m           \u001b[0m\u001b[1;34mkellner2024thetcellniche pages \u001b[0m\u001b[1;36m25\u001b[0m\u001b[1;34m-\u001b[0m\u001b[1;36m26\u001b[0m\u001b[1;34m)\u001b[0m\u001b[1;34m. While SCM has been shown to enhance other T-cell functions, such \u001b[0m\n",
       "\u001b[2;36m           \u001b[0m\u001b[1;34mas activation markers and cytoskeletal adaptors, no evidence suggests its involvement in modulating CD8α\u001b[0m\n",
       "\u001b[2;36m           \u001b[0m\u001b[1;34mreceptor levels in OT-\u001b[0m\u001b[1;36m1\u001b[0m\u001b[1;34m T cells \u001b[0m\u001b[1;34m(\u001b[0m\u001b[1;34mkellner2024thetcellniche pages \u001b[0m\u001b[1;36m2\u001b[0m\u001b[1;34m-\u001b[0m\u001b[1;36m3\u001b[0m\u001b[1;34m, kellner2024thetcellniche pages \u001b[0m    \n",
       "\u001b[2;36m           \u001b[0m\u001b[1;36m16\u001b[0m\u001b[1;34m-\u001b[0m\u001b[1;36m18\u001b[0m\u001b[1;34m)\u001b[0m\u001b[1;34m. \u001b[0m                                                                                                \n",
       "\u001b[2;36m           \u001b[0m                                                                                                        \n",
       "\u001b[2;36m           \u001b[0m\u001b[1;34mThus, the current data support the conclusion that SCM does not affect CD8α expression in OT-\u001b[0m\u001b[1;36m1\u001b[0m\u001b[1;34m T cells.\u001b[0m \n"
      ]
     },
     "metadata": {},
     "output_type": "display_data"
    }
   ],
   "source": [
    "answer = ask(formatted_q, settings=settings)"
   ]
  },
  {
   "cell_type": "code",
   "execution_count": null,
   "metadata": {},
   "outputs": [],
   "source": []
  }
 ],
 "metadata": {
  "kernelspec": {
   "display_name": "paperqa_env",
   "language": "python",
   "name": "python3"
  },
  "language_info": {
   "codemirror_mode": {
    "name": "ipython",
    "version": 3
   },
   "file_extension": ".py",
   "mimetype": "text/x-python",
   "name": "python",
   "nbconvert_exporter": "python",
   "pygments_lexer": "ipython3",
   "version": "3.11.11"
  }
 },
 "nbformat": 4,
 "nbformat_minor": 2
}
